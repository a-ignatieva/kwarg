{
 "cells": [
  {
   "cell_type": "markdown",
   "metadata": {},
   "source": [
    "# KwARG Tutorial"
   ]
  },
  {
   "cell_type": "markdown",
   "metadata": {},
   "source": [
    "This tutorial gives an overview of the usage of KwARG and the types of output that it can produce. \n",
    "\n",
    "To recreate the results on the command line, open Terminal and navigate to the directory where you have saved the binaries. Remove the '!' from the commands below."
   ]
  },
  {
   "cell_type": "markdown",
   "metadata": {},
   "source": [
    "## Available options"
   ]
  },
  {
   "cell_type": "markdown",
   "metadata": {},
   "source": [
    "A list of the available options can be viewed by running KwARG with the '-h', '-H' or '-?' option:"
   ]
  },
  {
   "cell_type": "code",
   "execution_count": 1,
   "metadata": {},
   "outputs": [
    {
     "name": "stdout",
     "output_type": "stream",
     "text": [
      "Usage: ./kwarg [options] < [input]\r\n",
      "The program reads data from the input file specified and greedily\r\n",
      "constructs a history with a low number of recombinations and\r\n",
      "recurrent mutations (homoplasies). The history is constructed by\r\n",
      "stepping backwards in time using coalescence, mutation and\r\n",
      "recombination events. At each point in this process, all possible\r\n",
      "next events (strictly speaking, only a useful subset of all possible\r\n",
      "next events) are considered, and the resulting ancestral states are\r\n",
      "scored. The scores are used to choose an event either at random or\r\n",
      "to proceed to an ancestral state with minimum score (see option -T).\r\n",
      "This process is NOT guaranteed to lead to a history with a minimum\r\n",
      "number of recombinations or the minimum number of homoplasies.\r\n",
      "Legal options are:\r\n",
      " -L[x] Provide an optional label x (should be an integer) to print at\r\n",
      "       the start of each line.\r\n",
      " -S[x] Specify cost of a sequencing error (default: x = 0.5).\r\n",
      " -M[x] Specify cost of a recurrent mutation (default: x = 0.9).\r\n",
      " -R[x] Specify cost of a single recombination (default: x = 1.0).\r\n",
      " -C[x] Specify cost of two recombinations immediately following each\r\n",
      "       other (default: x = 2.0).\r\n",
      " -T[F] Set annealing temperature 0 < F < 700 (default: F = 30).\r\n",
      "       Scores are normalised to lie between 0 and 1, and the next\r\n",
      "       step selected with probability proportional to exp(F *\r\n",
      "       normalised_score). Setting F = 0 corresponds to random\r\n",
      "       selection among possible moves (not recommended). Setting F\r\n",
      "       = -1 corresponds to setting F = Infinity, and will force\r\n",
      "       selection of the move with the minimum score at each step.\r\n",
      " -V[x] If running a single iteration with given cost parameters, this\r\n",
      "       controls the level of verbosity. \r\n",
      "       x = 0: no extra output \r\n",
      "       x = 1: during each neighbourhood search, output the number of\r\n",
      "       neighbours explored, the move selected and its cost \r\n",
      "       x = 2: during each neighbourhood search, output the number of\r\n",
      "       neighbours explored, the resulting configuration and cost of\r\n",
      "       each neighbour, the move selected and its cost.\r\n",
      " -b[name] Output a minimum recombination history to file name.\r\n",
      " -d[name] Output ancestral recombination graph of minimum\r\n",
      "          recombination history in dot format to file name.\r\n",
      " -g[name] Output ancestral recombination graph of minimum\r\n",
      "          recombination history in GDL format to file name.\r\n",
      " -j[name] Output ancestral recombination graph of minimum\r\n",
      "          recombination history in GML format to file name.\r\n",
      " -t[name] Output list of marginal phylogenies for each site in\r\n",
      "          Newick's 8:45 format to file name.\r\n",
      " -D[name] Output list of marginal phylogenies for each site in dot\r\n",
      "          format to file name.\r\n",
      " -G[name] Output list of marginal phylogenies for each site in GDL\r\n",
      "          format to file name.\r\n",
      " -J[name] Output list of marginal phylogenies for each site in GML\r\n",
      "          format to file name.\r\n",
      " -I Marginal trees are only output one for each of the intervals\r\n",
      "    between two recombination points, instead of one for each site.\r\n",
      " -v[nodelabel] Use nodelabel convention for labelling nodes in\r\n",
      "               ancestral recombination graphs. The possible\r\n",
      "               conventions are: nodelabel = \r\n",
      "               'none': do not label nodes\r\n",
      "               'id': only label nodes representing sampled\r\n",
      "               sequences, using their sequence ids from the data\r\n",
      "               file, and nodes representing recombinations,\r\n",
      "               indicating the recombination point\r\n",
      "               'sequence': label nodes with the inferred sequences;\r\n",
      "               these sequences will be in binary format, with 0\r\n",
      "               representing wild type and 1 representing mutant\r\n",
      "               type, even if the original data is not in binary\r\n",
      "               format\r\n",
      "               'both': label nodes with both id and inferred\r\n",
      "               sequence\r\n",
      "               'one': use only one label for a node, sequence id or\r\n",
      "               recombination point if available and otherwise the\r",
      "\r\n",
      "               inferred sequence\r\n",
      "               Default convention is id. The colour coding scheme\r\n",
      "               used for the nodes is red for sequences in the input\r\n",
      "               data, blue for recombination nodes, green for\r\n",
      "               standard coalescent nodes, and yellow for the final\r\n",
      "               coalescence into the most recent common ancestor.\r\n",
      " -i Sequences not having a sequence id in the data file are assigned\r\n",
      "    their index in the data file as id, e.g. the first sequence in\r\n",
      "    the data file would be assigned '1' as id.\r\n",
      " -e Label edges in ancestral recombination graphs with the sites\r\n",
      "    undergoing mutation along the edge.\r\n",
      " -o Assume input data is in own format. Default is to first try to\r\n",
      "    parse data in own format, and if that fails to try to parse it\r\n",
      "    in fasta format. Specifying this option, no attempt will be made\r\n",
      "    to try to parse the data in fasta format.\r\n",
      " -f Assume input data is in fasta format. No attempt will be made to\r\n",
      "    try to parse the data in own format. Note that the -o and\r\n",
      "    the -f options override each other, so only the last one\r\n",
      "    occurring in the command line will have an effect.\r\n",
      " -a Assume input consists of amino acid (protein) sequences using the\r\n",
      "    one letter amino acid alphabet; anything not in the amino acid\r\n",
      "    one letter alphabet is treated as an unresolved site (default is\r\n",
      "    to assume sequences in binary, i.e. 0/1, format where anything\r\n",
      "    but a 0 or a 1 is considered an unresolved site). If the most\r\n",
      "    recent common ancestor is assumed known (see option -k), the\r\n",
      "    first sequence in the input data is considered to specify the\r\n",
      "    wild type of each site and is not included as part of the sample\r\n",
      "    set.\r\n",
      " -n Assume input consists of nucleic sequences; anything but\r\n",
      "    a/c/g/t/u is considered an unresolved site (default is to assume\r\n",
      "    binary, i.e. 0/1, format where anything but a 0 or a 1 is\r\n",
      "    considered an unresolved site). If the most recent common\r\n",
      "    ancestor is assumed known (see option -k), the first sequence in\r\n",
      "    the input data is considered to specify the wild type of each\r\n",
      "    site and is not included as part of the sample set.\r\n",
      " -k Assume that the common ancestral sequence is known, i.e. that we\r\n",
      "    know which is the wild type and which is the mutant in each\r\n",
      "    site. If the data is in binary format, the all-0 sequence is\r\n",
      "    assumed to be the common ancestral sequence (this does not need\r\n",
      "    to be present in the data). If the data is in amino acid or\r\n",
      "    nucleotide format, the common ancestral sequence has to be\r\n",
      "    specified directly and is taken to be the first sequence in the\r\n",
      "    data file (see options -a and -n)\r\n",
      " -Q[x] Sets the number of runs.\r\n",
      " -Z[x] Sets the random seed z (only one run is made in this case).\r\n",
      " -X[x] Provide an upper bound x on the number of recombinations\r\n",
      "       needed for the input dataset (solutions with more than x\r\n",
      "       recombinations will be abandoned).\r\n",
      " -s Turns off the header row of the results table.\r\n",
      " -h, -H -? Print this information and stop.\r\n"
     ]
    }
   ],
   "source": [
    "!./kwarg -h"
   ]
  },
  {
   "cell_type": "markdown",
   "metadata": {},
   "source": [
    "## Running KwARG"
   ]
  },
  {
   "cell_type": "markdown",
   "metadata": {},
   "source": [
    "We will first run KwARG on the Kreitman dataset, with 3 iterations for each of the default cost parameters:"
   ]
  },
  {
   "cell_type": "code",
   "execution_count": 2,
   "metadata": {
    "scrolled": true
   },
   "outputs": [
    {
     "name": "stdout",
     "output_type": "stream",
     "text": [
      "         Seed   Temp  SE_cost  RM_cost   R_cost  RR_cost  SE  RM   R   N_states            Time\n",
      "   2601625704   30.0    -1.00    -1.00     1.00     2.00   0   0   7        153      0.01203100\n",
      "   2833715205   30.0    -1.00    -1.00     1.00     2.00  NA  NA  NA        175      0.01934900\n",
      "   2088249328   30.0    -1.00    -1.00     1.00     2.00   0   0   7        145      0.01337600\n",
      "   3052951246   30.0     1.00     1.01     1.00     2.00   6   1   6       1444      0.57676100\n",
      "   3353384182   30.0     1.00     1.01     1.00     2.00   4   1   4       1255      0.20606800\n",
      "   3410089108   30.0     1.00     1.01     1.00     2.00   1   0   5        760      0.11520900\n",
      "   1828302667   30.0     0.90     0.91     1.00     2.00   5   0   2        702      0.14626900\n",
      "   3225485139   30.0     0.90     0.91     1.00     2.00  NA  NA  NA       1083      0.14772300\n",
      "   3046884879   30.0     0.90     0.91     1.00     2.00  NA  NA  NA        849      0.09440700\n",
      "   3198632652   30.0     0.80     0.81     1.00     2.00  NA  NA  NA       1157      0.21403300\n",
      "   1986441690   30.0     0.80     0.81     1.00     2.00   3   0   4        914      0.10946100\n",
      "   1773048665   30.0     0.80     0.81     1.00     2.00   2   1   4        780      0.11172300\n",
      "   1838291634   30.0     0.70     0.71     1.00     2.00  NA  NA  NA       1167      0.15020400\n",
      "   2143237569   30.0     0.70     0.71     1.00     2.00  NA  NA  NA       1086      0.15805000\n",
      "   2303470289   30.0     0.70     0.71     1.00     2.00  NA  NA  NA        945      0.16666900\n",
      "   2645221831   30.0     0.60     0.61     1.00     2.00   3   0   3        747      0.11292900\n",
      "   3243300085   30.0     0.60     0.61     1.00     2.00   0   2   4        744      0.07948900\n",
      "   1864865057   30.0     0.60     0.61     1.00     2.00   2   1   3        699      0.10499500\n",
      "   2547814861   30.0     0.50     0.51     1.00     2.00  NA  NA  NA        942      0.09895000\n",
      "   1921909335   30.0     0.50     0.51     1.00     2.00   3   0   3        822      0.11927000\n",
      "   3185200706   30.0     0.50     0.51     1.00     2.00   5   0   2        820      0.10595400\n",
      "   1627110433   30.0     0.40     0.41     1.00     2.00  NA  NA  NA       1010      0.22907700\n",
      "   3056188657   30.0     0.40     0.41     1.00     2.00  NA  NA  NA        894      0.09132400\n",
      "   1914316890   30.0     0.40     0.41     1.00     2.00   5   0   2        934      0.11731400\n",
      "   3310285152   30.0     0.30     0.31     1.00     2.00  NA  NA  NA        931      0.18293100\n",
      "   2830896468   30.0     0.30     0.31     1.00     2.00   5   0   2        715      0.09527100\n",
      "   1765279040   30.0     0.30     0.31     1.00     2.00   5   0   2        723      0.10761400\n",
      "   3393915342   30.0     0.20     0.21     1.00     2.00   5   0   2        723      0.10024600\n",
      "   3187940384   30.0     0.20     0.21     1.00     2.00  NA  NA  NA        868      0.08212500\n",
      "   2780186279   30.0     0.20     0.21     1.00     2.00  13   0   0        836      0.25446000\n",
      "   2378498273   30.0     0.10     0.11     1.00     2.00   5   0   2        702      0.09103200\n",
      "   1683804573   30.0     0.10     0.11     1.00     2.00  13   0   0        820      0.28792300\n",
      "   2844859340   30.0     0.10     0.11     1.00     2.00   5   0   2        702      0.09583900\n",
      "   3245102482   30.0     0.01     0.02     1.00     2.00   5   0   2        702      0.09950500\n",
      "   1961747575   30.0     0.01     0.02     1.00     2.00   9   0   1        889      0.10874100\n",
      "   2780771945   30.0     0.01     0.02     1.00     2.00   7   5   0        736      0.09567800\n",
      "   2276621186   30.0     1.00     1.10    -1.00    -1.00  NA  NA  NA       1169      0.21339400\n",
      "   2917570376   30.0     1.00     1.10    -1.00    -1.00  NA  NA  NA       1432      0.20109900\n",
      "   2549774585   30.0     1.00     1.10    -1.00    -1.00  NA  NA  NA       1589      0.25289100\n"
     ]
    }
   ],
   "source": [
    "!./kwarg -Q3 < kreitman_snp.txt"
   ]
  },
  {
   "cell_type": "markdown",
   "metadata": {},
   "source": [
    "The output table gives:\n",
    "- Seed: the random seed needed to rerun this particular iteration (demonstrated below)\n",
    "- Temp: the annealing temperature used (default: 30)\n",
    "- SE_cost, RM_cost, R_cost, RR_cost: the cost parameter for a sequencing error, recurrent mutation, single recombination, and two consecutive recombination events, respectively\n",
    "- SE, RM, R: the number of each type of event in the solution\n",
    "- N_states: the total number of states considered when constructing one-step neighbourhoods\n",
    "- Time: CPU time for each iteration.\n",
    "\n",
    "Lines where number of events is shown as 'NA' correspond to runs which were identified as sub-optimal and terminated before completion."
   ]
  },
  {
   "cell_type": "markdown",
   "metadata": {},
   "source": [
    "KwARG can also be run with specified costs, as follows:"
   ]
  },
  {
   "cell_type": "code",
   "execution_count": 3,
   "metadata": {},
   "outputs": [
    {
     "name": "stdout",
     "output_type": "stream",
     "text": [
      "         Seed   Temp  SE_cost  RM_cost   R_cost  RR_cost  SE  RM   R   N_states            Time\n",
      "   2611612860   30.0     0.20     0.30     1.00     2.00   8   2   0        715      0.09174800\n",
      "   2186755964   30.0     0.20     0.30     1.00     2.00   6   0   2        813      0.12789900\n",
      "   3641081466   30.0     0.20     0.30     1.00     2.00  NA  NA  NA       1297      0.13407100\n",
      "   2458405652   30.0     0.20     0.30     1.00     2.00   5   0   2        702      0.10066300\n",
      "   2963344908   30.0     0.20     0.30     1.00     2.00  NA  NA  NA        937      0.11827100\n",
      "   2681191801   30.0     0.40     0.50     1.00     2.00   4   1   2        770      0.08341100\n",
      "   2159394232   30.0     0.40     0.50     1.00     2.00  NA  NA  NA       1088      0.12439800\n",
      "   2526916363   30.0     0.40     0.50     1.00     2.00  NA  NA  NA        814      0.29432900\n",
      "   2930465543   30.0     0.40     0.50     1.00     2.00  NA  NA  NA        792      0.11778200\n",
      "   2775244447   30.0     0.40     0.50     1.00     2.00  NA  NA  NA       1038      0.09858000\n"
     ]
    }
   ],
   "source": [
    "!./kwarg -S0.2,0.4 -M0.3,0.5 -Q5 < kreitman_snp.txt"
   ]
  },
  {
   "cell_type": "markdown",
   "metadata": {},
   "source": [
    "The same number of SE_cost and RM_cost parameters should be specified, separated by commas. \n",
    "\n",
    "The options '-R' and '-C' can be used to specify the cost of single and double recombination events, this defaults to 1.0 and 2.0, respectively. If these options are used, then SE_cost and RM_cost must also be provided."
   ]
  },
  {
   "cell_type": "markdown",
   "metadata": {},
   "source": [
    "### Input formats"
   ]
  },
  {
   "cell_type": "markdown",
   "metadata": {},
   "source": [
    "#### Binary data\n",
    "The input data can be in 0/1 binary format, and any other symbols will be interpreted as missing data."
   ]
  },
  {
   "cell_type": "code",
   "execution_count": 4,
   "metadata": {},
   "outputs": [
    {
     "name": "stdout",
     "output_type": "stream",
     "text": [
      "00010010\r\n",
      "1001101x\r\n",
      "11001x01\r\n",
      "01100101\r\n"
     ]
    }
   ],
   "source": [
    "!cat example_data_1.txt"
   ]
  },
  {
   "cell_type": "markdown",
   "metadata": {},
   "source": [
    "Sequence and site labels can also be provided, as follows:"
   ]
  },
  {
   "cell_type": "code",
   "execution_count": 5,
   "metadata": {},
   "outputs": [
    {
     "name": "stdout",
     "output_type": "stream",
     "text": [
      "#> Seq1\r\n",
      "00010010\r\n",
      "#> Seq2\r\n",
      "1001101-\r\n",
      "#> Seq3\r\n",
      "11001-01\r\n",
      "#> Seq4\r\n",
      "01100101\r\n",
      "#positions: 2 3 7 9 10 11 13 14\r\n"
     ]
    }
   ],
   "source": [
    "!cat example_data_2.txt"
   ]
  },
  {
   "cell_type": "markdown",
   "metadata": {},
   "source": [
    "#### FASTA format\n",
    "Input data in fasta format can be provided, for instance:"
   ]
  },
  {
   "cell_type": "code",
   "execution_count": 6,
   "metadata": {},
   "outputs": [
    {
     "name": "stdout",
     "output_type": "stream",
     "text": [
      ">Seq1\r\n",
      "ACTTAAGG\r\n",
      ">Seq2\r\n",
      "TCTTTAGN\r\n",
      ">Seq3\r\n",
      "TGTATNAA\r\n",
      ">Seq4\r\n",
      "AGCAATAA\r\n"
     ]
    }
   ],
   "source": [
    "!cat example_data_3.fasta"
   ]
  },
  {
   "cell_type": "markdown",
   "metadata": {},
   "source": [
    "In this case, to denote that the data is provided in fasta format in nucleotide representation, the '-f' and '-n' flags should be used:"
   ]
  },
  {
   "cell_type": "code",
   "execution_count": 7,
   "metadata": {},
   "outputs": [
    {
     "name": "stdout",
     "output_type": "stream",
     "text": [
      "         Seed   Temp  SE_cost  RM_cost   R_cost  RR_cost  SE  RM   R   N_states            Time\r\n",
      "   2616606438   30.0     0.50     0.90     1.00     2.00   2   0   0         36      0.00114700\r\n"
     ]
    }
   ],
   "source": [
    "!./kwarg -f -n -S0.5 -M0.9 < example_data_3.fasta"
   ]
  },
  {
   "cell_type": "markdown",
   "metadata": {},
   "source": [
    "### Annealing parameter"
   ]
  },
  {
   "cell_type": "markdown",
   "metadata": {},
   "source": [
    "We can change the annealing temperature using the '-T' option:\n",
    "- '-T30' is the default temperature of 30.\n",
    "- '-T0' means the next step is chosen uniformly at random among all available moves (this is not recommended).\n",
    "- '-T-1' signifies $T = \\infty$, so the next step is chosen among all available moves with the minimum score."
   ]
  },
  {
   "cell_type": "code",
   "execution_count": 8,
   "metadata": {},
   "outputs": [
    {
     "name": "stdout",
     "output_type": "stream",
     "text": [
      "         Seed   Temp  SE_cost  RM_cost   R_cost  RR_cost  SE  RM   R   N_states            Time\n",
      "   2616606438   -1.0    -1.00    -1.00     1.00     2.00   0   0   7        146      0.01183900\n",
      "   1863276342   -1.0    -1.00    -1.00     1.00     2.00   0   0   7        146      0.01072300\n",
      "   1634361799   -1.0    -1.00    -1.00     1.00     2.00   0   0   7        167      0.01147600\n",
      "   2120612875   -1.0     1.00     1.01     1.00     2.00   1   0   6        797      0.10581000\n",
      "   2768325270   -1.0     1.00     1.01     1.00     2.00   1   0   6        797      0.09598300\n",
      "   3390484970   -1.0     1.00     1.01     1.00     2.00   1   0   6        797      0.09088400\n",
      "   3398681837   -1.0     0.90     0.91     1.00     2.00   3   0   3        773      0.09291300\n",
      "   2177631974   -1.0     0.90     0.91     1.00     2.00   3   0   3        773      0.10779600\n",
      "   2872255873   -1.0     0.90     0.91     1.00     2.00   3   0   3        773      0.10341900\n",
      "   3637292166   -1.0     0.80     0.81     1.00     2.00   3   0   3        789      0.09916600\n",
      "   2229965343   -1.0     0.80     0.81     1.00     2.00   3   0   3        789      0.09505000\n",
      "   2546633691   -1.0     0.80     0.81     1.00     2.00   3   0   3        789      0.09396800\n",
      "   2918284069   -1.0     0.70     0.71     1.00     2.00   3   0   3        789      0.09800800\n",
      "   2944500523   -1.0     0.70     0.71     1.00     2.00   3   0   3        789      0.09861100\n",
      "   1872404186   -1.0     0.70     0.71     1.00     2.00   3   0   3        789      0.10707600\n",
      "   1710428850   -1.0     0.60     0.61     1.00     2.00   3   0   3        789      0.09456800\n",
      "   1991187006   -1.0     0.60     0.61     1.00     2.00   3   0   3        789      0.09400000\n",
      "   2011993707   -1.0     0.60     0.61     1.00     2.00   3   0   3        789      0.09674300\n",
      "   2817200563   -1.0     0.50     0.51     1.00     2.00   5   0   2        791      0.10336500\n",
      "   2265418323   -1.0     0.50     0.51     1.00     2.00   5   0   2        791      0.11140600\n",
      "   2065884106   -1.0     0.50     0.51     1.00     2.00   5   0   2        791      0.10161900\n",
      "   2194177202   -1.0     0.40     0.41     1.00     2.00   5   0   2        723      0.13337700\n",
      "   3484274397   -1.0     0.40     0.41     1.00     2.00   5   0   2        723      0.11459100\n",
      "   2622644005   -1.0     0.40     0.41     1.00     2.00   5   0   2        723      0.12060700\n",
      "   2837983743   -1.0     0.30     0.31     1.00     2.00   5   0   2        723      0.10573600\n",
      "   2572373776   -1.0     0.30     0.31     1.00     2.00   5   0   2        723      0.10198800\n",
      "   3485362873   -1.0     0.30     0.31     1.00     2.00   5   0   2        723      0.10146700\n",
      "   1941959837   -1.0     0.20     0.21     1.00     2.00   5   0   2        723      0.10453900\n",
      "   3690368037   -1.0     0.20     0.21     1.00     2.00   5   0   2        723      0.10957000\n",
      "   3011058638   -1.0     0.20     0.21     1.00     2.00   5   0   2        723      0.10870000\n",
      "   2981580430   -1.0     0.10     0.11     1.00     2.00   5   0   2        702      0.10073700\n",
      "   3621259533   -1.0     0.10     0.11     1.00     2.00   5   0   2        702      0.09977600\n",
      "   2285808715   -1.0     0.10     0.11     1.00     2.00   5   0   2        702      0.09485400\n",
      "   3548241670   -1.0     0.01     0.02     1.00     2.00   5   0   2        702      0.09851200\n",
      "   3359367899   -1.0     0.01     0.02     1.00     2.00   5   0   2        702      0.10339400\n",
      "   3409163983   -1.0     0.01     0.02     1.00     2.00   5   0   2        702      0.10292400\n",
      "   1662077177   -1.0     1.00     1.10    -1.00    -1.00  16   0   0        724      0.11880500\n",
      "   2811479899   -1.0     1.00     1.10    -1.00    -1.00  15   0   0        716      0.11003600\n",
      "   2016335473   -1.0     1.00     1.10    -1.00    -1.00  15   0   0        716      0.10752000\n"
     ]
    }
   ],
   "source": [
    "!./kwarg -T-1 -Q3 < kreitman_snp.txt"
   ]
  },
  {
   "cell_type": "markdown",
   "metadata": {},
   "source": [
    "Several values of the annealing parameter can be provided, separated by commas: for instance '-T10,20,50'."
   ]
  },
  {
   "cell_type": "markdown",
   "metadata": {},
   "source": [
    "### Turning off recurrent mutations"
   ]
  },
  {
   "cell_type": "markdown",
   "metadata": {},
   "source": [
    "Specifying '-S-1 -M-1' turns off recurrent mutations, so in this case an upper bound on Rmin is computed under the infinite sites assumption:"
   ]
  },
  {
   "cell_type": "code",
   "execution_count": 9,
   "metadata": {},
   "outputs": [
    {
     "name": "stdout",
     "output_type": "stream",
     "text": [
      "         Seed   Temp  SE_cost  RM_cost   R_cost  RR_cost  SE  RM   R   N_states            Time\n",
      "   2623264542   -1.0    -1.00    -1.00     1.00     2.00   0   0   7        146      0.01144100\n",
      "   2147798063   -1.0    -1.00    -1.00     1.00     2.00   0   0   7        167      0.01107900\n",
      "   1986743730   -1.0    -1.00    -1.00     1.00     2.00   0   0   7        146      0.01033200\n",
      "   1996696503   -1.0    -1.00    -1.00     1.00     2.00   0   0   7        146      0.01076200\n",
      "   2947321370   -1.0    -1.00    -1.00     1.00     2.00   0   0   7        167      0.01370200\n"
     ]
    }
   ],
   "source": [
    "!./kwarg -S-1 -M-1 -T-1 -Q5 < kreitman_snp.txt"
   ]
  },
  {
   "cell_type": "markdown",
   "metadata": {},
   "source": [
    "### Turning off recombination"
   ]
  },
  {
   "cell_type": "markdown",
   "metadata": {},
   "source": [
    "Specifying '-R-1 -C-1' turns off the possibility of recombinations, so an upper bound on the minimum parsimony score is computed:"
   ]
  },
  {
   "cell_type": "code",
   "execution_count": 10,
   "metadata": {},
   "outputs": [
    {
     "name": "stdout",
     "output_type": "stream",
     "text": [
      "         Seed   Temp  SE_cost  RM_cost   R_cost  RR_cost  SE  RM   R   N_states            Time\n",
      "   2623264542   30.0     1.00     1.10    -1.00    -1.00  18   8   0       2018      0.43616500\n",
      "   1996696503   30.0     1.00     1.10    -1.00    -1.00  NA  NA  NA       2672      0.68387300\n",
      "   2947321371   30.0     1.00     1.10    -1.00    -1.00  24   2   0       1875      1.12214200\n",
      "   2838510949   30.0     1.00     1.10    -1.00    -1.00  20   1   0       1683      0.34656700\n",
      "   1792471208   30.0     1.00     1.10    -1.00    -1.00  NA  NA  NA       1691      0.43594300\n"
     ]
    }
   ],
   "source": [
    "!./kwarg -S1.0 -M1.1 -R-1 -C-1 -Q5 < kreitman_snp.txt"
   ]
  },
  {
   "cell_type": "markdown",
   "metadata": {},
   "source": [
    "### Specifying the ancestral (root) sequence"
   ]
  },
  {
   "cell_type": "markdown",
   "metadata": {},
   "source": [
    "It is possible to specify a particular sequence as ancestral to the sample (corresponding to the root of the ARG), using the '-k' option. \n",
    "\n",
    "If the input data is in binary format, then the all-zero sequence will be assumed to be ancestral (whether or not this is included in the data). \n",
    "\n",
    "If the input data is in nucleotide or amino acid representation, then the first sequence in the data will be taken as ancestral. \n",
    "\n",
    "The effect on the resulting history is illustated further below. "
   ]
  },
  {
   "cell_type": "markdown",
   "metadata": {},
   "source": [
    "## Outputs"
   ]
  },
  {
   "cell_type": "markdown",
   "metadata": {},
   "source": [
    "We can re-run a particular instance via specifying the random seed, and output the history as text.\n",
    "Here we are choosing seed Z3391369848, SE_cost=0.01 and RM_cost=0.02. We expect to see 5 sequencing errors, 0 recurrent mutations and 2 recombinations in the output. \n",
    "\n",
    "The \"-b\" option will save the history in file \"example_history.txt\". \n",
    "\n",
    "The \"-d\" option will output a picture of the corresponding ARG in DOT format and save it in the file \"example_arg.dot\". The \"-e\" options tells KwARG to label the edges with mutations.\n",
    "\n",
    "If an output option is specified, an output file name must also be given."
   ]
  },
  {
   "cell_type": "code",
   "execution_count": 11,
   "metadata": {},
   "outputs": [
    {
     "name": "stdout",
     "output_type": "stream",
     "text": [
      "         Seed   Temp  SE_cost  RM_cost   R_cost  RR_cost  SE  RM   R   N_states            Time\n",
      "   3391369848   30.0     0.01     0.02     1.00     2.00   5   0   2        702      0.12403500\n"
     ]
    }
   ],
   "source": [
    "!./kwarg -S0.01 -M0.02 -Z3391369848 -bexample_history.txt -dexample_arg.dot -e < kreitman_snp.txt"
   ]
  },
  {
   "cell_type": "code",
   "execution_count": 12,
   "metadata": {},
   "outputs": [
    {
     "name": "stdout",
     "output_type": "stream",
     "text": [
      "Mutation of site 6 in sequence 11\r\n",
      "Mutation of site 7 in sequence 11\r\n",
      "Mutation of site 8 in sequence 11\r\n",
      "Mutation of site 10 in sequence 1\r\n",
      "Mutation of site 14 in sequence 11\r\n",
      "Mutation of site 15 in sequence 5\r\n",
      "Mutation of site 21 in sequence 11\r\n",
      "Mutation of site 25 in sequence 11\r\n",
      "Mutation of site 39 in sequence 4\r\n",
      "Mutation of site 40 in sequence 4\r\n",
      "Mutation of site 41 in sequence 3\r\n",
      "Mutation of site 42 in sequence 6\r\n",
      "Mutation of site 43 in sequence 3\r\n",
      "Coalescing sequences 8 and 9\r\n",
      "Coalescing sequences 8 and 10\r\n",
      "Mutation of site 13 in sequence 8\r\n",
      "Mutation of site 38 in sequence 8\r\n",
      "---->Sequencing error at site 36 in sequence 6\r\n",
      "---->Stretch of sequencing errors spanning 2 sites:\r\n",
      "---->Sequencing error at site 17 in sequence 5\r\n",
      "---->Sequencing error at site 18 in sequence 5\r\n",
      "Mutation of site 17 in sequence 4\r\n",
      "Mutation of site 18 in sequence 4\r\n",
      "Coalescing sequences 3 and 4\r\n",
      "Mutation of site 36 in sequence 3\r\n",
      "---->Sequencing error at site 9 in sequence 1\r\n",
      "---->Sequencing error at site 3 in sequence 2\r\n",
      "Coalescing sequences 1 and 2\r\n",
      "Mutation of site 19 in sequence 1\r\n",
      "Mutation of site 20 in sequence 1\r\n",
      "Mutation of site 22 in sequence 1\r\n",
      "Mutation of site 23 in sequence 1\r\n",
      "Mutation of site 24 in sequence 1\r\n",
      "Mutation of site 26 in sequence 1\r\n",
      "Mutation of site 27 in sequence 1\r\n",
      "Mutation of site 28 in sequence 1\r\n",
      "Mutation of site 29 in sequence 1\r\n",
      "Coalescing sequences 1 and 3\r\n",
      "Mutation of site 16 in sequence 1\r\n",
      "Mutation of site 37 in sequence 1\r\n",
      "---->Recombination in sequence 5 after site 29; suffix is new sequence 12\r\n",
      "Coalescing sequences 1 and 12\r\n",
      "Mutation of site 31 in sequence 1\r\n",
      "Mutation of site 33 in sequence 1\r\n",
      "Mutation of site 35 in sequence 1\r\n",
      "---->Recombination in sequence 5 after site 3; prefix is new sequence 13\r\n",
      "Coalescing sequences 1 and 13\r\n",
      "Mutation of site 3 in sequence 1\r\n",
      "Coalescing sequences 8 and 5\r\n",
      "Coalescing sequences 1 and 6\r\n",
      "Mutation of site 11 in sequence 8\r\n",
      "Mutation of site 12 in sequence 8\r\n",
      "Mutation of site 30 in sequence 1\r\n",
      "Mutation of site 32 in sequence 1\r\n",
      "Mutation of site 34 in sequence 1\r\n",
      "Coalescing sequences 1 and 7\r\n",
      "Coalescing sequences 8 and 11\r\n",
      "Mutation of site 1 in sequence 8\r\n",
      "Mutation of site 2 in sequence 8\r\n",
      "Mutation of site 4 in sequence 8\r\n",
      "Mutation of site 5 in sequence 8\r\n",
      "Mutation of site 9 in sequence 1\r\n",
      "Coalescing sequences 1 and 8\r\n",
      "Total: 5 sequencing errors, 0 recurrent mutations, 2 recombinations.\r\n"
     ]
    }
   ],
   "source": [
    "!cat example_history.txt"
   ]
  },
  {
   "cell_type": "markdown",
   "metadata": {},
   "source": [
    "If GraphViz is installed, it can be used to convert the DOT file to a png."
   ]
  },
  {
   "cell_type": "code",
   "execution_count": 13,
   "metadata": {},
   "outputs": [],
   "source": [
    "!dot -Tpng -o example_arg.png example_arg.dot"
   ]
  },
  {
   "cell_type": "markdown",
   "metadata": {},
   "source": [
    "![Example_ARG](example_arg.png)"
   ]
  },
  {
   "cell_type": "markdown",
   "metadata": {},
   "source": [
    "Recurrent mutations are labelled with '\\*'. Recombination nodes are coloured blue, with the number inside the node denoting the recombination breakpoint. The parts of the genome to the left and right of the breakpoint are inherited from two different parent nodes. The edges leading to these nodes are labelled 'P' and 'S', which stands for 'prefix' and 'suffix', respectively. \n",
    "\n",
    "See the help for a full list of possible output formats. For instance, we can also print out the local trees for each interval in Newick format as follows:"
   ]
  },
  {
   "cell_type": "code",
   "execution_count": 14,
   "metadata": {},
   "outputs": [
    {
     "name": "stdout",
     "output_type": "stream",
     "text": [
      "         Seed   Temp  SE_cost  RM_cost   R_cost  RR_cost  SE  RM   R   N_states            Time\n",
      "   3257491408   30.0     0.01     0.02     1.00     2.00   5   0   2        702      0.16322600\n"
     ]
    }
   ],
   "source": [
    "!./kwarg -S0.01 -M0.02 -Z3257491408 -texample_local_trees.txt -I < kreitman_snp.txt"
   ]
  },
  {
   "cell_type": "markdown",
   "metadata": {},
   "source": [
    "The '-I' option means a tree is given for each interval between recombination breakpoints. Not specifying this option will mean that one tree is produced for each site."
   ]
  },
  {
   "cell_type": "code",
   "execution_count": 15,
   "metadata": {},
   "outputs": [
    {
     "name": "stdout",
     "output_type": "stream",
     "text": [
      "((((((1,2),(3,4)),5),6),7),(((8,9),10),11))1-3;\r\n",
      "(((((1,2),(3,4)),6),7),((5,((8,9),10)),11))4-29;\r\n",
      "((((((1,2),(3,4)),5),6),7),(((8,9),10),11))30-43;\r\n"
     ]
    }
   ],
   "source": [
    "!cat example_local_trees.txt"
   ]
  },
  {
   "cell_type": "markdown",
   "metadata": {},
   "source": [
    "### Specifying the ancestral sequence\n",
    "Compare the output ARGs when the ancestral sequence is and is not specified:"
   ]
  },
  {
   "cell_type": "code",
   "execution_count": 16,
   "metadata": {},
   "outputs": [
    {
     "name": "stdout",
     "output_type": "stream",
     "text": [
      "#> Seq1\r\n",
      "00010010\r\n",
      "#> Seq2\r\n",
      "1001101-\r\n",
      "#> Seq3\r\n",
      "11001-01\r\n",
      "#> Seq4\r\n",
      "01100101\r\n",
      "#positions: 2 3 7 9 10 11 13 14\r\n"
     ]
    }
   ],
   "source": [
    "!cat example_data_2.txt"
   ]
  },
  {
   "cell_type": "code",
   "execution_count": 17,
   "metadata": {},
   "outputs": [
    {
     "name": "stdout",
     "output_type": "stream",
     "text": [
      "       Ref          Seed   Temp  SE_cost  RM_cost   R_cost  RR_cost  SE  RM   R   N_states            Time\n",
      "         1    3066074262   30.0     0.50     0.90     1.00     2.00   2   0   0         55      0.01355600\n",
      "         2    3066074262   30.0     0.50     0.90     1.00     2.00   2   0   0         36      0.00166900\n"
     ]
    }
   ],
   "source": [
    "!./kwarg -L1 -Z3066074262 -dexample_ancestral.dot -k -e -vboth < example_data_2.txt\n",
    "!./kwarg -L2 -Z3066074262 -dexample_nonancestral.dot -e -vboth -s < example_data_2.txt\n",
    "!dot -Tpng -o example_ancestral_arg.png example_ancestral.dot\n",
    "!dot -Tpng -o example_nonancestral_arg.png example_nonancestral.dot"
   ]
  },
  {
   "cell_type": "markdown",
   "metadata": {},
   "source": [
    "Here '-vboth' means that the leaves are marked with their corresponding reference (if specified), and all nodes are labelled with the corresponding sequence."
   ]
  },
  {
   "cell_type": "markdown",
   "metadata": {},
   "source": [
    "![Ancestral sequence specified](example_ancestral_arg.png)"
   ]
  },
  {
   "cell_type": "markdown",
   "metadata": {},
   "source": [
    "![Ancestral sequence not specified](example_nonancestral_arg.png)"
   ]
  },
  {
   "cell_type": "markdown",
   "metadata": {},
   "source": [
    "## Simplify\n",
    "This is a small program which reduces the input dataset using the 'Clean' algorithm, removing all mutations and coalescing all possible sequences until no further reduction is possible. The input data types are the same as for KwARG."
   ]
  },
  {
   "cell_type": "code",
   "execution_count": 18,
   "metadata": {},
   "outputs": [
    {
     "name": "stdout",
     "output_type": "stream",
     "text": [
      "Input dataset: 11 sequences, 43 sites\r\n",
      "Reduced dataset: 9 sequences, 16 sites\r\n",
      "0100010101010101\r\n",
      "0001010101010101\r\n",
      "0101010001010111\r\n",
      "0101011001010111\r\n",
      "0110101001010100\r\n",
      "0001000000000010\r\n",
      "0001000010101000\r\n",
      "1010100010101000\r\n",
      "1010000010101000\r\n",
      "Sequences:\r\n",
      "X 1 2 3 4 5 6 X 10 \r\n",
      "Sites:\r\n",
      "X 2 X 8 X 15 X X 29 30 31 32 33 34 35 36 \r\n"
     ]
    }
   ],
   "source": [
    "!./simplify < kreitman_snp.txt"
   ]
  },
  {
   "cell_type": "markdown",
   "metadata": {},
   "source": [
    "The output sequence labels show either the number of the sequence in the input dataset, or 'X' if the sequence in the output has been coalesced with another. The site labels show either the number of the site as in the input dataset, or 'X' if the column corresponds to multiple sites collapsed into one."
   ]
  },
  {
   "cell_type": "markdown",
   "metadata": {},
   "source": [
    "## Flip\n",
    "This is a small program which flips the nucleotides at the given sequence and site (from 0 to 1) and outputs the resulting amended dataset. "
   ]
  },
  {
   "cell_type": "code",
   "execution_count": 19,
   "metadata": {},
   "outputs": [
    {
     "name": "stdout",
     "output_type": "stream",
     "text": [
      "0010000001000001001101110111101010101000000\r\n",
      "0000000010000001001101110111101010101000000\r\n",
      "0010000010000001000000000000001010111000101\r\n",
      "0010000010000001110000000000001010111011000\r\n",
      "0011100000110010110000000000001010100000000\r\n",
      "0000000010000000000000000000000000010000010\r\n",
      "0000000010000000000000000000010101000000000\r\n",
      "1101100000111000000000000000010101000100000\r\n",
      "1101100000111000000000000000010101000100000\r\n",
      "1101100000111000000000000000010101000100000\r\n",
      "1101111100000100000010001000010101000000000\r\n"
     ]
    }
   ],
   "source": [
    "!cat kreitman_snp.txt"
   ]
  },
  {
   "cell_type": "code",
   "execution_count": 20,
   "metadata": {},
   "outputs": [
    {
     "name": "stdout",
     "output_type": "stream",
     "text": [
      "0010000001000001001101110111101010101000000\r\n",
      "0000000010000001001101110111101010101000000\r\n",
      "0010000010000001000000000000001010111000101\r\n",
      "0010000010000001110000000000001010111011000\r\n",
      "0011100000110010110000000000001010100000000\r\n",
      "0000000010000000000000000000000000011000010\r\n",
      "0000000010000000000000000000010101000000000\r\n",
      "0101100000111000000000000000010101000100000\r\n",
      "1101100000111000000000000000010101000100000\r\n",
      "1101100000111000000000000000010101000100000\r\n",
      "1101111100000100000010001000010101000000000\r\n"
     ]
    }
   ],
   "source": [
    "!./flip -q6,8 -s37,1 < kreitman_snp.txt"
   ]
  },
  {
   "cell_type": "markdown",
   "metadata": {},
   "source": [
    "Using the option '-bfilename.txt' will save the resulting dataset to filename.txt."
   ]
  }
 ],
 "metadata": {
  "kernelspec": {
   "display_name": "Python 3",
   "language": "python",
   "name": "python3"
  },
  "language_info": {
   "codemirror_mode": {
    "name": "ipython",
    "version": 3
   },
   "file_extension": ".py",
   "mimetype": "text/x-python",
   "name": "python",
   "nbconvert_exporter": "python",
   "pygments_lexer": "ipython3",
   "version": "3.6.12"
  }
 },
 "nbformat": 4,
 "nbformat_minor": 4
}
