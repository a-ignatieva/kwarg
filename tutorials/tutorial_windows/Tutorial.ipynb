{
 "cells": [
  {
   "cell_type": "markdown",
   "metadata": {},
   "source": [
    "# KwARG Tutorial (Windows)"
   ]
  },
  {
   "cell_type": "markdown",
   "metadata": {},
   "source": [
    "This tutorial gives an overview of the usage of KwARG and the types of output that it can produce. \n",
    "\n",
    "Open the Windows Command Prompt (Start menu $\\rightarrow$ Windows System $\\rightarrow$ Command Prompt) and navigate to the folder where you have saved the kwarg binaries (using the command \"cd directory_of_the_folder\").\n",
    "\n",
    "To recreate the results on the command line, remove the '!' from the commands below."
   ]
  },
  {
   "cell_type": "markdown",
   "metadata": {},
   "source": [
    "## Available options"
   ]
  },
  {
   "cell_type": "markdown",
   "metadata": {},
   "source": [
    "A list of the available options can be viewed by running KwARG with the '-h', '-H' or '-?' option:"
   ]
  },
  {
   "cell_type": "code",
   "execution_count": 1,
   "metadata": {},
   "outputs": [
    {
     "name": "stdout",
     "output_type": "stream",
     "text": [
      "Usage: kwarg [options] < [input]\n",
      "The program reads data from the input file specified and greedily\n",
      "constructs a history with a low number of recombinations and\n",
      "recurrent mutations (homoplasies). The history is constructed by\n",
      "stepping backwards in time using coalescence, mutation and\n",
      "recombination events. At each point in this process, all possible\n",
      "next events (strictly speaking, only a useful subset of all possible\n",
      "next events) are considered, and the resulting ancestral states are\n",
      "scored. The scores are used to choose an event either at random or\n",
      "to proceed to an ancestral state with minimum score (see option -T).\n",
      "This process is NOT guaranteed to lead to a history with a minimum\n",
      "number of recombinations or the minimum number of homoplasies.\n",
      "Legal options are:\n",
      " -L[x] Provide an optional label x (should be an integer) to print at\n",
      "       the start of each line.\n",
      " -S[x] Specify cost of a sequencing error (default: x = 0.5).\n",
      " -M[x] Specify cost of a recurrent mutation (default: x = 0.9).\n",
      " -R[x] Specify cost of a single recombination (default: x = 1.0).\n",
      " -C[x] Specify cost of two recombinations immediately following each\n",
      "       other (default: x = 2.0).\n",
      " -T[F] Set annealing temperature 0 < F < 700 (default: F = 30).\n",
      "       Scores are normalised to lie between 0 and 1, and the next\n",
      "       step selected with probability proportional to exp(F *\n",
      "       normalised_score). Setting F = 0 corresponds to random\n",
      "       selection among possible moves (not recommended). Setting F\n",
      "       = -1 corresponds to setting F = Infinity, and will force\n",
      "       selection of the move with the minimum score at each step.\n",
      " -V[x] If running a single iteration with given cost parameters, this\n",
      "       controls the level of verbosity. \n",
      "       x = 0: no extra output \n",
      "       x = 1: during each neighbourhood search, output the number of\n",
      "       neighbours explored, the move selected and its cost \n",
      "       x = 2: during each neighbourhood search, output the number of\n",
      "       neighbours explored, the resulting configuration and cost of\n",
      "       each neighbour, the move selected and its cost.\n",
      " -b[name] Output a minimum recombination history to file name.\n",
      " -d[name] Output ancestral recombination graph of minimum\n",
      "          recombination history in dot format to file name.\n",
      " -g[name] Output ancestral recombination graph of minimum\n",
      "          recombination history in GDL format to file name.\n",
      " -j[name] Output ancestral recombination graph of minimum\n",
      "          recombination history in GML format to file name.\n",
      " -t[name] Output list of marginal phylogenies for each site in\n",
      "          Newick's 8:45 format to file name.\n",
      " -D[name] Output list of marginal phylogenies for each site in dot\n",
      "          format to file name.\n",
      " -G[name] Output list of marginal phylogenies for each site in GDL\n",
      "          format to file name.\n",
      " -J[name] Output list of marginal phylogenies for each site in GML\n",
      "          format to file name.\n",
      " -I Marginal trees are only output one for each of the intervals\n",
      "    between two recombination points, instead of one for each site.\n",
      " -v[nodelabel] Use nodelabel convention for labelling nodes in\n",
      "               ancestral recombination graphs. The possible\n",
      "               conventions are: nodelabel = \n",
      "               'none': do not label nodes\n",
      "               'id': only label nodes representing sampled\n",
      "               sequences, using their sequence ids from the data\n",
      "               file, and nodes representing recombinations,\n",
      "               indicating the recombination point\n",
      "               'sequence': label nodes with the inferred sequences;\n",
      "               these sequences will be in binary format, with 0\n",
      "               representing wild type and 1 representing mutant\n",
      "               type, even if the original data is not in binary\n",
      "               format\n",
      "               'both': label nodes with both id and inferred\n",
      "               sequence\n",
      "               'one': use only one label for a node, sequence id or\n",
      "               recombination point if available and otherwise the\n",
      "               inferred sequence\n",
      "               Default convention is id. The colour coding scheme\n",
      "               used for the nodes is red for sequences in the input\n",
      "               data, blue for recombination nodes, green for\n",
      "               standard coalescent nodes, and yellow for the final\n",
      "               coalescence into the most recent common ancestor.\n",
      " -i Sequences not having a sequence id in the data file are assigned\n",
      "    their index in the data file as id, e.g. the first sequence in\n",
      "    the data file would be assigned '1' as id.\n",
      " -e Label edges in ancestral recombination graphs with the sites\n",
      "    undergoing mutation along the edge.\n",
      " -o Assume input data is in own format. Default is to first try to\n",
      "    parse data in own format, and if that fails to try to parse it\n",
      "    in fasta format. Specifying this option, no attempt will be made\n",
      "    to try to parse the data in fasta format.\n",
      " -f Assume input data is in fasta format. No attempt will be made to\n",
      "    try to parse the data in own format. Note that the -o and\n",
      "    the -f options override each other, so only the last one\n",
      "    occurring in the command line will have an effect.\n",
      " -a Assume input consists of amino acid (protein) sequences using the\n",
      "    one letter amino acid alphabet; anything not in the amino acid\n",
      "    one letter alphabet is treated as an unresolved site (default is\n",
      "    to assume sequences in binary, i.e. 0/1, format where anything\n",
      "    but a 0 or a 1 is considered an unresolved site). If the most\n",
      "    recent common ancestor is assumed known (see option -k), the\n",
      "    first sequence in the input data is considered to specify the\n",
      "    wild type of each site and is not included as part of the sample\n",
      "    set.\n",
      " -n Assume input consists of nucleic sequences; anything but\n",
      "    a/c/g/t/u is considered an unresolved site (default is to assume\n",
      "    binary, i.e. 0/1, format where anything but a 0 or a 1 is\n",
      "    considered an unresolved site). If the most recent common\n",
      "    ancestor is assumed known (see option -k), the first sequence in\n",
      "    the input data is considered to specify the wild type of each\n",
      "    site and is not included as part of the sample set.\n",
      " -k Assume that the common ancestral sequence is known, i.e. that we\n",
      "    know which is the wild type and which is the mutant in each\n",
      "    site. If the data is in binary format, the all-0 sequence is\n",
      "    assumed to be the common ancestral sequence (this does not need\n",
      "    to be present in the data). If the data is in amino acid or\n",
      "    nucleotide format, the common ancestral sequence has to be\n",
      "    specified directly and is taken to be the first sequence in the\n",
      "    data file (see options -a and -n)\n",
      " -Q[x] Sets the number of runs.\n",
      " -Z[x] Sets the random seed z (only one run is made in this case).\n",
      " -X[x] Provide an upper bound x on the number of recombinations\n",
      "       needed for the input dataset (solutions with more than x\n",
      "       recombinations will be abandoned).\n",
      " -s Turns off the header row of the results table.\n",
      " -h, -H -? Print this information and stop.\n"
     ]
    }
   ],
   "source": [
    "!kwarg -h"
   ]
  },
  {
   "cell_type": "markdown",
   "metadata": {},
   "source": [
    "## Running KwARG"
   ]
  },
  {
   "cell_type": "markdown",
   "metadata": {},
   "source": [
    "We will first run KwARG on the Kreitman dataset, with 3 iterations for each of the default cost parameters:"
   ]
  },
  {
   "cell_type": "code",
   "execution_count": 2,
   "metadata": {
    "scrolled": true
   },
   "outputs": [
    {
     "name": "stdout",
     "output_type": "stream",
     "text": [
      "         Seed   Temp  SE_cost  RM_cost   R_cost  RR_cost  SE  RM   R   N_states            Time\n",
      "   1607523139   30.0    -1.00    -1.00     1.00     2.00   0   0   8        153      0.02100000\n",
      "   1607551929   30.0    -1.00    -1.00     1.00     2.00   0   0   8        168      0.01600000\n",
      "   1607566027   30.0    -1.00    -1.00     1.00     2.00   0   0   8        190      0.00700000\n",
      "   1607533024   30.0     1.00     1.01     1.00     2.00   1   1   4        728      0.09500000\n",
      "   1607581506   30.0     1.00     1.01     1.00     2.00  NA  NA  NA       1042      0.11600000\n",
      "   1607531870   30.0     1.00     1.01     1.00     2.00   0   1   5        744      0.07800000\n",
      "   1607553963   30.0     0.90     0.91     1.00     2.00   2   0   4        754      0.09300000\n",
      "   1607566190   30.0     0.90     0.91     1.00     2.00  NA  NA  NA       1136      0.13500000\n",
      "   1607539839   30.0     0.90     0.91     1.00     2.00  NA  NA  NA        797      0.09600000\n",
      "   1607547804   30.0     0.80     0.81     1.00     2.00  NA  NA  NA        852      0.10500000\n",
      "   1607535246   30.0     0.80     0.81     1.00     2.00  NA  NA  NA       1572      0.36400000\n",
      "   1607548161   30.0     0.80     0.81     1.00     2.00   3   1   3        707      0.11400000\n",
      "   1607547719   30.0     0.70     0.71     1.00     2.00   4   0   3       1022      0.12000000\n",
      "   1607545120   30.0     0.70     0.71     1.00     2.00  NA  NA  NA       1157      0.12800000\n",
      "   1607540591   30.0     0.70     0.71     1.00     2.00  NA  NA  NA        899      0.13500000\n",
      "   1607545030   30.0     0.60     0.61     1.00     2.00  NA  NA  NA        978      0.16900000\n",
      "   1607544065   30.0     0.60     0.61     1.00     2.00  NA  NA  NA       1471      0.15100000\n",
      "   1607581318   30.0     0.60     0.61     1.00     2.00  NA  NA  NA        954      0.10000000\n",
      "   1607532614   30.0     0.50     0.51     1.00     2.00  NA  NA  NA       1256      0.21800000\n",
      "   1607544984   30.0     0.50     0.51     1.00     2.00   7   0   2        933      0.13300000\n",
      "   1607526220   30.0     0.50     0.51     1.00     2.00   7   0   2        983      0.10500000\n",
      "   1607555882   30.0     0.40     0.41     1.00     2.00   5   0   2        956      0.13900000\n",
      "   1607544619   30.0     0.40     0.41     1.00     2.00   4   1   2        699      0.09900000\n",
      "   1607540309   30.0     0.40     0.41     1.00     2.00  NA  NA  NA        824      0.12900000\n",
      "   1607542848   30.0     0.30     0.31     1.00     2.00  NA  NA  NA        852      0.13100000\n",
      "   1607549693   30.0     0.30     0.31     1.00     2.00   5   0   2        723      0.11700000\n",
      "   1607580372   30.0     0.30     0.31     1.00     2.00  NA  NA  NA        879      0.27500000\n",
      "   1607556105   30.0     0.20     0.21     1.00     2.00   5   0   2        702      0.10300000\n",
      "   1607522944   30.0     0.20     0.21     1.00     2.00   4   1   2        770      0.07800000\n",
      "   1607564418   30.0     0.20     0.21     1.00     2.00   5   5   0        715      0.09100000\n",
      "   1607575594   30.0     0.10     0.11     1.00     2.00  NA  NA  NA        957      0.10600000\n",
      "   1607530831   30.0     0.10     0.11     1.00     2.00   5   0   2        723      0.11100000\n",
      "   1607574531   30.0     0.10     0.11     1.00     2.00  NA  NA  NA        796      0.09500000\n",
      "   1607558760   30.0     0.01     0.02     1.00     2.00  NA  NA  NA        709      0.08200000\n",
      "   1607551526   30.0     0.01     0.02     1.00     2.00   8   2   0        715      0.06600000\n",
      "   1607568673   30.0     0.01     0.02     1.00     2.00   7   3   0        715      0.10000000\n",
      "   1607549004   30.0     1.00     1.10    -1.00    -1.00  NA  NA  NA        720      0.08000000\n",
      "   1607580832   30.0     1.00     1.10    -1.00    -1.00  NA  NA  NA        950      0.10700000\n",
      "   1607544938   30.0     1.00     1.10    -1.00    -1.00  NA  NA  NA       1190      0.23500000\n"
     ]
    }
   ],
   "source": [
    "!kwarg -Q3 < kreitman_snp.txt"
   ]
  },
  {
   "cell_type": "markdown",
   "metadata": {},
   "source": [
    "The output table gives:\n",
    "- Seed: the random seed needed to rerun this particular iteration (demonstrated below)\n",
    "- Temp: the annealing temperature used (default: 30)\n",
    "- SE_cost, RM_cost, R_cost, RR_cost: the cost parameter for a sequencing error, recurrent mutation, single recombination, and two consecutive recombination events, respectively\n",
    "- SE, RM, R: the number of each type of event in the solution\n",
    "- N_states: the total number of states considered when constructing one-step neighbourhoods\n",
    "- Time: CPU time for each iteration.\n",
    "\n",
    "Lines where number of events is shown as 'NA' correspond to runs which were identified as sub-optimal and terminated before completion."
   ]
  },
  {
   "cell_type": "markdown",
   "metadata": {},
   "source": [
    "KwARG can also be run with specified costs, as follows:"
   ]
  },
  {
   "cell_type": "code",
   "execution_count": 3,
   "metadata": {},
   "outputs": [
    {
     "name": "stdout",
     "output_type": "stream",
     "text": [
      "         Seed   Temp  SE_cost  RM_cost   R_cost  RR_cost  SE  RM   R   N_states            Time\n",
      "   1607522951   30.0     0.20     0.30     1.00     2.00   8   0   2       1061      0.12100000\n",
      "   1607562527   30.0     0.20     0.30     1.00     2.00   6   2   1        736      0.06500000\n",
      "   1607563436   30.0     0.20     0.30     1.00     2.00   5   0   2        770      0.08400000\n",
      "   1607534898   30.0     0.20     0.30     1.00     2.00  NA  NA  NA        815      0.08900000\n",
      "   1607542092   30.0     0.20     0.30     1.00     2.00  13   0   0        823      0.16800000\n",
      "   1607539673   30.0     0.40     0.50     1.00     2.00  NA  NA  NA       1037      0.10200000\n",
      "   1607528196   30.0     0.40     0.50     1.00     2.00   5   0   2        723      0.09200000\n",
      "   1607558364   30.0     0.40     0.50     1.00     2.00  NA  NA  NA       1035      0.08100000\n",
      "   1607553783   30.0     0.40     0.50     1.00     2.00  NA  NA  NA        858      0.24300000\n",
      "   1607573336   30.0     0.40     0.50     1.00     2.00  NA  NA  NA        940      0.08400000\n"
     ]
    }
   ],
   "source": [
    "!kwarg -S0.2,0.4 -M0.3,0.5 -Q5 < kreitman_snp.txt"
   ]
  },
  {
   "cell_type": "markdown",
   "metadata": {},
   "source": [
    "The same number of SE_cost and RM_cost parameters should be specified, separated by commas.\n",
    "\n",
    "The options '-R' and '-C' can be used to specify the cost of single and double recombination events, this defaults to 1.0 and 2.0, respectively. If these options are used, then SE_cost and RM_cost must also be provided."
   ]
  },
  {
   "cell_type": "markdown",
   "metadata": {},
   "source": [
    "### Input formats"
   ]
  },
  {
   "cell_type": "markdown",
   "metadata": {},
   "source": [
    "#### Binary data\n",
    "The input data can be in 0/1 binary format, and any other symbols will be interpreted as missing data."
   ]
  },
  {
   "cell_type": "code",
   "execution_count": 4,
   "metadata": {},
   "outputs": [
    {
     "name": "stdout",
     "output_type": "stream",
     "text": [
      "00010010\n",
      "1001101x\n",
      "11001x01\n",
      "01100101\n"
     ]
    }
   ],
   "source": [
    "!type example_data_1.txt"
   ]
  },
  {
   "cell_type": "markdown",
   "metadata": {},
   "source": [
    "Sequence and site labels can also be provided, as follows:"
   ]
  },
  {
   "cell_type": "code",
   "execution_count": 5,
   "metadata": {},
   "outputs": [
    {
     "name": "stdout",
     "output_type": "stream",
     "text": [
      "#> Seq1\n",
      "00010010\n",
      "#> Seq2\n",
      "1001101-\n",
      "#> Seq3\n",
      "11001-01\n",
      "#> Seq4\n",
      "01100101\n",
      "#positions: 2 3 7 9 10 11 13 14\n"
     ]
    }
   ],
   "source": [
    "!type example_data_2.txt"
   ]
  },
  {
   "cell_type": "markdown",
   "metadata": {},
   "source": [
    "#### FASTA format\n",
    "Input data in fasta format can be provided, for instance:"
   ]
  },
  {
   "cell_type": "code",
   "execution_count": 6,
   "metadata": {},
   "outputs": [
    {
     "name": "stdout",
     "output_type": "stream",
     "text": [
      ">Seq1\n",
      "ACTTAAGG\n",
      ">Seq2\n",
      "TCTTTAGN\n",
      ">Seq3\n",
      "TGTATNAA\n",
      ">Seq4\n",
      "AGCAATAA\n"
     ]
    }
   ],
   "source": [
    "!type example_data_3.fasta"
   ]
  },
  {
   "cell_type": "markdown",
   "metadata": {},
   "source": [
    "Any symbols other than 'ACTG' are taken to denote missing data. \n",
    "\n",
    "To denote that the data is provided in fasta format in nucleotide representation, the '-f' and '-n' flags should be used:"
   ]
  },
  {
   "cell_type": "code",
   "execution_count": 7,
   "metadata": {},
   "outputs": [
    {
     "name": "stdout",
     "output_type": "stream",
     "text": [
      "         Seed   Temp  SE_cost  RM_cost   R_cost  RR_cost  SE  RM   R   N_states            Time\n",
      "   1607542536   30.0     0.50     0.90     1.00     2.00   2   0   0         36      0.00000000\n"
     ]
    }
   ],
   "source": [
    "!kwarg -f -n -S0.5 -M0.9 < example_data_3.fasta"
   ]
  },
  {
   "cell_type": "markdown",
   "metadata": {},
   "source": [
    "### Annealing parameter"
   ]
  },
  {
   "cell_type": "markdown",
   "metadata": {},
   "source": [
    "We can change the annealing temperature using the '-T' option:\n",
    "- '-T30' is the default temperature of 30.\n",
    "- '-T0' means the next step is chosen uniformly at random among all available moves (this is not recommended).\n",
    "- '-T-1' signifies $T = \\infty$, so the next step is chosen among all available moves with the minimum score."
   ]
  },
  {
   "cell_type": "code",
   "execution_count": 8,
   "metadata": {},
   "outputs": [
    {
     "name": "stdout",
     "output_type": "stream",
     "text": [
      "         Seed   Temp  SE_cost  RM_cost   R_cost  RR_cost  SE  RM   R   N_states            Time\n",
      "   1607542536   -1.0    -1.00    -1.00     1.00     2.00   0   0   7        146      0.01400000\n",
      "   1607556362   -1.0    -1.00    -1.00     1.00     2.00   0   0   7        167      0.01600000\n",
      "   1607585230   -1.0    -1.00    -1.00     1.00     2.00   0   0   7        167      0.01600000\n",
      "   1607565299   -1.0     1.00     1.01     1.00     2.00   1   0   6        797      0.12100000\n",
      "   1607583785   -1.0     1.00     1.01     1.00     2.00   1   0   6        797      0.09200000\n",
      "   1607522775   -1.0     1.00     1.01     1.00     2.00   1   0   6        797      0.08500000\n",
      "   1607584167   -1.0     0.90     0.91     1.00     2.00   3   0   3        773      0.09200000\n",
      "   1607527690   -1.0     0.90     0.91     1.00     2.00   3   0   3        773      0.10300000\n",
      "   1607525508   -1.0     0.90     0.91     1.00     2.00   3   0   3        773      0.09300000\n",
      "   1607557310   -1.0     0.80     0.81     1.00     2.00   3   0   3        789      0.10100000\n",
      "   1607561744   -1.0     0.80     0.81     1.00     2.00   3   0   3        789      0.09900000\n",
      "   1607560973   -1.0     0.80     0.81     1.00     2.00   3   0   3        789      0.10500000\n",
      "   1607538345   -1.0     0.70     0.71     1.00     2.00   3   0   3        789      0.11500000\n",
      "   1607579540   -1.0     0.70     0.71     1.00     2.00   3   0   3        789      0.11000000\n",
      "   1607562165   -1.0     0.70     0.71     1.00     2.00   3   0   3        789      0.08400000\n",
      "   1607577528   -1.0     0.60     0.61     1.00     2.00   3   0   3        789      0.10600000\n",
      "   1607554638   -1.0     0.60     0.61     1.00     2.00   3   0   3        789      0.09000000\n",
      "   1607586286   -1.0     0.60     0.61     1.00     2.00   3   0   3        789      0.10300000\n",
      "   1607524573   -1.0     0.50     0.51     1.00     2.00   5   0   2        791      0.08800000\n",
      "   1607534460   -1.0     0.50     0.51     1.00     2.00   5   0   2        791      0.09000000\n",
      "   1607532903   -1.0     0.50     0.51     1.00     2.00   5   0   2        791      0.11300000\n",
      "   1607540581   -1.0     0.40     0.41     1.00     2.00   5   0   2        723      0.12200000\n",
      "   1607526033   -1.0     0.40     0.41     1.00     2.00   5   0   2        723      0.11100000\n",
      "   1607582998   -1.0     0.40     0.41     1.00     2.00   5   0   2        723      0.09900000\n",
      "   1607579450   -1.0     0.30     0.31     1.00     2.00   5   0   2        723      0.09500000\n",
      "   1607572232   -1.0     0.30     0.31     1.00     2.00   5   0   2        723      0.10800000\n",
      "   1607575616   -1.0     0.30     0.31     1.00     2.00   5   0   2        723      0.10300000\n",
      "   1607549840   -1.0     0.20     0.21     1.00     2.00   5   0   2        723      0.10800000\n",
      "   1607535610   -1.0     0.20     0.21     1.00     2.00   5   0   2        723      0.10500000\n",
      "   1607560640   -1.0     0.20     0.21     1.00     2.00   5   0   2        723      0.10300000\n",
      "   1607544686   -1.0     0.10     0.11     1.00     2.00   5   0   2        702      0.08300000\n",
      "   1607538000   -1.0     0.10     0.11     1.00     2.00   5   0   2        702      0.08200000\n",
      "   1607540509   -1.0     0.10     0.11     1.00     2.00   5   0   2        702      0.10300000\n",
      "   1607548512   -1.0     0.01     0.02     1.00     2.00   5   0   2        702      0.10100000\n",
      "   1607580361   -1.0     0.01     0.02     1.00     2.00   5   0   2        702      0.09700000\n",
      "   1607569874   -1.0     0.01     0.02     1.00     2.00   5   0   2        702      0.07400000\n",
      "   1607561824   -1.0     1.00     1.10    -1.00    -1.00  14   0   0        729      0.11700000\n",
      "   1607577663   -1.0     1.00     1.10    -1.00    -1.00  13   0   0        716      0.10500000\n",
      "   1607562613   -1.0     1.00     1.10    -1.00    -1.00  NA  NA  NA        724      0.09900000\n"
     ]
    }
   ],
   "source": [
    "!kwarg -T-1 -Q3 < kreitman_snp.txt"
   ]
  },
  {
   "cell_type": "markdown",
   "metadata": {},
   "source": [
    "### Turning off recurrent mutations"
   ]
  },
  {
   "cell_type": "markdown",
   "metadata": {},
   "source": [
    "Specifying '-S-1 -M-1' turns off recurrent mutations, so in this case an upper bound on Rmin is computed under the infinite sites assumption:"
   ]
  },
  {
   "cell_type": "code",
   "execution_count": 9,
   "metadata": {},
   "outputs": [
    {
     "name": "stdout",
     "output_type": "stream",
     "text": [
      "         Seed   Temp  SE_cost  RM_cost   R_cost  RR_cost  SE  RM   R   N_states            Time\n",
      "   1607522763   -1.0    -1.00    -1.00     1.00     2.00   0   0   7        146      0.00900000\n",
      "   1607555700   -1.0    -1.00    -1.00     1.00     2.00   0   0   7        167      0.01000000\n",
      "   1607545368   -1.0    -1.00    -1.00     1.00     2.00   0   0   7        167      0.01100000\n",
      "   1607531335   -1.0    -1.00    -1.00     1.00     2.00   0   0   7        146      0.00800000\n",
      "   1607568421   -1.0    -1.00    -1.00     1.00     2.00   0   0   7        167      0.01400000\n"
     ]
    }
   ],
   "source": [
    "!kwarg -S-1 -M-1 -T-1 -Q5 < kreitman_snp.txt"
   ]
  },
  {
   "cell_type": "markdown",
   "metadata": {},
   "source": [
    "### Turning off recombination"
   ]
  },
  {
   "cell_type": "markdown",
   "metadata": {},
   "source": [
    "Specifying '-R-1 -C-1' turns off the possibility of recombinations, so an upper bound on the minimum parsimony score is computed:"
   ]
  },
  {
   "cell_type": "code",
   "execution_count": 10,
   "metadata": {},
   "outputs": [
    {
     "name": "stdout",
     "output_type": "stream",
     "text": [
      "         Seed   Temp  SE_cost  RM_cost   R_cost  RR_cost  SE  RM   R   N_states            Time\n",
      "   1607548939   30.0     1.00     1.10    -1.00    -1.00  20   4   0       1841      0.27100000\n",
      "   1607537049   30.0     1.00     1.10    -1.00    -1.00  NA  NA  NA       1892      0.42700000\n",
      "   1607524830   30.0     1.00     1.10    -1.00    -1.00  20   0   0       1544      0.28600000\n",
      "   1607531213   30.0     1.00     1.10    -1.00    -1.00  NA  NA  NA       1639      0.34000000\n",
      "   1607566656   30.0     1.00     1.10    -1.00    -1.00  NA  NA  NA       2024      0.27600000\n"
     ]
    }
   ],
   "source": [
    "!kwarg -S1.0 -M1.1 -R-1 -C-1 -Q5 < kreitman_snp.txt"
   ]
  },
  {
   "cell_type": "markdown",
   "metadata": {},
   "source": [
    "### Specifying the ancestral (root) sequence"
   ]
  },
  {
   "cell_type": "markdown",
   "metadata": {},
   "source": [
    "It is possible to specify a particular sequence as ancestral to the sample (corresponding to the root of the ARG), using the '-k' option. \n",
    "\n",
    "If the input data is in binary format, then the all-zero sequence will be assumed to be ancestral (whether or not this is included in the data). \n",
    "\n",
    "If the input data is in nucleotide or amino acid representation, then the first sequence in the data will be taken as ancestral. \n",
    "\n",
    "The effect on the resulting history is illustated further below. "
   ]
  },
  {
   "cell_type": "markdown",
   "metadata": {},
   "source": [
    "## Outputs"
   ]
  },
  {
   "cell_type": "markdown",
   "metadata": {},
   "source": [
    "We can re-run a particular instance via specifying the random seed, and output the history as text.\n",
    "Here we are specifying the seed 3183788175, SE_cost=0.01 and RM_cost=0.02. We expect to see 5 sequencing errors, 0 recurrent mutations and 2 recombinations in the output. \n",
    "\n",
    "The \"-b\" option will save the history in file \"example_history.txt\". \n",
    "\n",
    "The \"-d\" option will output a picture of the corresponding ARG in DOT format and save it in the file \"example_arg.dot\". The \"-e\" options tells KwARG to label the edges with mutations.\n",
    "\n",
    "If an output option is specified, an output file name must also be provided."
   ]
  },
  {
   "cell_type": "code",
   "execution_count": 11,
   "metadata": {},
   "outputs": [
    {
     "name": "stdout",
     "output_type": "stream",
     "text": [
      "         Seed   Temp  SE_cost  RM_cost   R_cost  RR_cost  SE  RM   R   N_states            Time\n",
      "   3183788175   30.0     0.01     0.02     1.00     2.00   5   0   2        702      0.10600000\n"
     ]
    }
   ],
   "source": [
    "!kwarg -S0.01 -M0.02 -Z3183788175 -bexample_history.txt -dexample_arg.dot -e < kreitman_snp.txt"
   ]
  },
  {
   "cell_type": "code",
   "execution_count": 12,
   "metadata": {},
   "outputs": [
    {
     "name": "stdout",
     "output_type": "stream",
     "text": [
      "Mutation of site 6 in sequence 11\n",
      "Mutation of site 7 in sequence 11\n",
      "Mutation of site 8 in sequence 11\n",
      "Mutation of site 10 in sequence 1\n",
      "Mutation of site 14 in sequence 11\n",
      "Mutation of site 15 in sequence 5\n",
      "Mutation of site 21 in sequence 11\n",
      "Mutation of site 25 in sequence 11\n",
      "Mutation of site 39 in sequence 4\n",
      "Mutation of site 40 in sequence 4\n",
      "Mutation of site 41 in sequence 3\n",
      "Mutation of site 42 in sequence 6\n",
      "Mutation of site 43 in sequence 3\n",
      "Coalescing sequences 8 and 9\n",
      "Coalescing sequences 8 and 10\n",
      "Mutation of site 13 in sequence 8\n",
      "Mutation of site 38 in sequence 8\n",
      "---->Sequencing error at site 36 in sequence 6\n",
      "---->Stretch of sequencing errors spanning 2 sites:\n",
      "---->Sequencing error at site 17 in sequence 5\n",
      "---->Sequencing error at site 18 in sequence 5\n",
      "Mutation of site 17 in sequence 4\n",
      "Mutation of site 18 in sequence 4\n",
      "Coalescing sequences 3 and 4\n",
      "Mutation of site 36 in sequence 3\n",
      "---->Sequencing error at site 9 in sequence 1\n",
      "---->Sequencing error at site 3 in sequence 2\n",
      "Coalescing sequences 1 and 2\n",
      "Mutation of site 19 in sequence 1\n",
      "Mutation of site 20 in sequence 1\n",
      "Mutation of site 22 in sequence 1\n",
      "Mutation of site 23 in sequence 1\n",
      "Mutation of site 24 in sequence 1\n",
      "Mutation of site 26 in sequence 1\n",
      "Mutation of site 27 in sequence 1\n",
      "Mutation of site 28 in sequence 1\n",
      "Mutation of site 29 in sequence 1\n",
      "Coalescing sequences 1 and 3\n",
      "Mutation of site 16 in sequence 1\n",
      "Mutation of site 37 in sequence 1\n",
      "---->Recombination in sequence 5 after site 29; suffix is new sequence 12\n",
      "Coalescing sequences 1 and 12\n",
      "Mutation of site 31 in sequence 1\n",
      "Mutation of site 33 in sequence 1\n",
      "Mutation of site 35 in sequence 1\n",
      "---->Recombination in sequence 5 after site 3; prefix is new sequence 13\n",
      "Coalescing sequences 1 and 13\n",
      "Mutation of site 3 in sequence 1\n",
      "Coalescing sequences 8 and 5\n",
      "Coalescing sequences 1 and 6\n",
      "Mutation of site 11 in sequence 8\n",
      "Mutation of site 12 in sequence 8\n",
      "Mutation of site 30 in sequence 1\n",
      "Mutation of site 32 in sequence 1\n",
      "Mutation of site 34 in sequence 1\n",
      "Coalescing sequences 1 and 7\n",
      "Coalescing sequences 8 and 11\n",
      "Mutation of site 1 in sequence 8\n",
      "Mutation of site 2 in sequence 8\n",
      "Mutation of site 4 in sequence 8\n",
      "Mutation of site 5 in sequence 8\n",
      "Mutation of site 9 in sequence 1\n",
      "Coalescing sequences 1 and 8\n",
      "Total: 5 sequencing errors, 0 recurrent mutations, 2 recombinations.\n"
     ]
    }
   ],
   "source": [
    "!type example_history.txt"
   ]
  },
  {
   "cell_type": "markdown",
   "metadata": {},
   "source": [
    "If GraphViz is installed, it can be used to convert the DOT file to a png."
   ]
  },
  {
   "cell_type": "code",
   "execution_count": 13,
   "metadata": {},
   "outputs": [],
   "source": [
    "!dot -Tpng -o example_arg.png example_arg.dot"
   ]
  },
  {
   "cell_type": "markdown",
   "metadata": {},
   "source": [
    "![Example_ARG](example_arg.png)"
   ]
  },
  {
   "cell_type": "markdown",
   "metadata": {},
   "source": [
    "Recurrent mutations are labelled with '\\*'. Recombination nodes are coloured blue, with the number inside the node denoting the recombination breakpoint. The parts of the genome to the left and right of the breakpoint are inherited from two different parent nodes. The edges leading to these nodes are labelled 'P' and 'S', which stands for 'prefix' and 'suffix', respectively. \n",
    "\n",
    "See the help for a full list of possible output formats. For instance, we can also print out the local trees for each interval in Newick format as follows:"
   ]
  },
  {
   "cell_type": "code",
   "execution_count": 14,
   "metadata": {},
   "outputs": [
    {
     "name": "stdout",
     "output_type": "stream",
     "text": [
      "         Seed   Temp  SE_cost  RM_cost   R_cost  RR_cost  SE  RM   R   N_states            Time\n",
      "   3257491408   30.0     0.01     0.02     1.00     2.00   5   0   2        702      0.13000000\n"
     ]
    }
   ],
   "source": [
    "!kwarg -S0.01 -M0.02 -Z3257491408 -texample_local_trees.txt -I < kreitman_snp.txt"
   ]
  },
  {
   "cell_type": "markdown",
   "metadata": {},
   "source": [
    "The '-I' option means a tree is given for each interval between recombination breakpoints. Not specifying this option will mean that one tree is produced for each site."
   ]
  },
  {
   "cell_type": "code",
   "execution_count": 15,
   "metadata": {},
   "outputs": [
    {
     "name": "stdout",
     "output_type": "stream",
     "text": [
      "((((((1,2),(3,4)),5),6),7),(((8,9),10),11))1-3;\n",
      "(((((1,2),(3,4)),6),7),((5,((8,9),10)),11))4-29;\n",
      "((((((1,2),(3,4)),5),6),7),(((8,9),10),11))30-43;\n"
     ]
    }
   ],
   "source": [
    "!type example_local_trees.txt"
   ]
  },
  {
   "cell_type": "markdown",
   "metadata": {},
   "source": [
    "### Specifying the ancestral sequence\n",
    "Compare the output ARGs when the ancestral sequence is and is not specified:"
   ]
  },
  {
   "cell_type": "code",
   "execution_count": 16,
   "metadata": {},
   "outputs": [
    {
     "name": "stdout",
     "output_type": "stream",
     "text": [
      "#> Seq1\n",
      "00010010\n",
      "#> Seq2\n",
      "1001101-\n",
      "#> Seq3\n",
      "11001-01\n",
      "#> Seq4\n",
      "01100101\n",
      "#positions: 2 3 7 9 10 11 13 14\n"
     ]
    }
   ],
   "source": [
    "!type example_data_2.txt"
   ]
  },
  {
   "cell_type": "code",
   "execution_count": 17,
   "metadata": {},
   "outputs": [
    {
     "name": "stdout",
     "output_type": "stream",
     "text": [
      "       Ref          Seed   Temp  SE_cost  RM_cost   R_cost  RR_cost  SE  RM   R   N_states            Time\n",
      "         1    3066074262   30.0     0.50     0.90     1.00     2.00   2   0   0         55      0.00800000\n",
      "         2    3066074262   30.0     0.50     0.90     1.00     2.00   2   0   0         36      0.00100000\n"
     ]
    }
   ],
   "source": [
    "!kwarg -L1 -Z3066074262 -dexample_ancestral.dot -k -e -vboth < example_data_2.txt\n",
    "!kwarg -L2 -Z3066074262 -dexample_nonancestral.dot -e -vboth -s < example_data_2.txt\n",
    "!dot -Tpng -o example_ancestral_arg.png example_ancestral.dot\n",
    "!dot -Tpng -o example_nonancestral_arg.png example_nonancestral.dot"
   ]
  },
  {
   "cell_type": "markdown",
   "metadata": {},
   "source": [
    "Here '-vboth' means that the leaves are marked with their corresponding reference (if specified), and all nodes are labelled with the corresponding sequence."
   ]
  },
  {
   "cell_type": "markdown",
   "metadata": {},
   "source": [
    "![Ancestral sequence specified](example_ancestral_arg.png)"
   ]
  },
  {
   "cell_type": "markdown",
   "metadata": {},
   "source": [
    "![Ancestral sequence not specified](example_nonancestral_arg.png)"
   ]
  },
  {
   "cell_type": "markdown",
   "metadata": {},
   "source": [
    "## Simplify"
   ]
  },
  {
   "cell_type": "markdown",
   "metadata": {},
   "source": [
    "This is a small program which reduces the input dataset using the 'Clean' algorithm, removing all mutations and coalescing all possible sequences until no further reduction is possible. The input data types are the same as for KwARG."
   ]
  },
  {
   "cell_type": "code",
   "execution_count": 18,
   "metadata": {},
   "outputs": [
    {
     "name": "stdout",
     "output_type": "stream",
     "text": [
      "Input dataset: 11 sequences, 43 sites\n",
      "Reduced dataset: 9 sequences, 16 sites\n",
      "0100010101010101\n",
      "0001010101010101\n",
      "0101010001010111\n",
      "0101011001010111\n",
      "0110101001010100\n",
      "0001000000000010\n",
      "0001000010101000\n",
      "1010100010101000\n",
      "1010000010101000\n",
      "Sequences:\n",
      "X 1 2 3 4 5 6 X 10 \n",
      "Sites:\n",
      "X 2 X 8 X 15 X X 29 30 31 32 33 34 35 36 \n"
     ]
    }
   ],
   "source": [
    "!simplify < kreitman_snp.txt"
   ]
  },
  {
   "cell_type": "markdown",
   "metadata": {},
   "source": [
    "The output sequence labels show either the number of the sequence in the input dataset, or 'X' if the sequence in the output has been coalesced with another. The site labels show either the number of the site as in the input dataset, or 'X' if the column corresponds to multiple sites collapsed into one."
   ]
  },
  {
   "cell_type": "markdown",
   "metadata": {},
   "source": [
    "## Flip"
   ]
  },
  {
   "cell_type": "markdown",
   "metadata": {},
   "source": [
    "This is a small program which flips the nucleotides at the given sequence and site (from 0 to 1 or 1 to 0) and outputs the resulting amended dataset."
   ]
  },
  {
   "cell_type": "code",
   "execution_count": 19,
   "metadata": {},
   "outputs": [
    {
     "name": "stdout",
     "output_type": "stream",
     "text": [
      "0010000001000001001101110111101010101000000\n",
      "0000000010000001001101110111101010101000000\n",
      "0010000010000001000000000000001010111000101\n",
      "0010000010000001110000000000001010111011000\n",
      "0011100000110010110000000000001010100000000\n",
      "0000000010000000000000000000000000010000010\n",
      "0000000010000000000000000000010101000000000\n",
      "1101100000111000000000000000010101000100000\n",
      "1101100000111000000000000000010101000100000\n",
      "1101100000111000000000000000010101000100000\n",
      "1101111100000100000010001000010101000000000\n"
     ]
    }
   ],
   "source": [
    "!type kreitman_snp.txt"
   ]
  },
  {
   "cell_type": "code",
   "execution_count": 20,
   "metadata": {},
   "outputs": [
    {
     "name": "stdout",
     "output_type": "stream",
     "text": [
      "0010000001000001001101110111101010101000000\n",
      "0000000010000001001101110111101010101000000\n",
      "0010000010000001000000000000001010111000101\n",
      "0010000010000001110000000000001010111011000\n",
      "0011100000110010110000000000001010100000000\n",
      "0000000010000000000000000000000000011000010\n",
      "0000000010000000000000000000010101000000000\n",
      "0101100000111000000000000000010101000100000\n",
      "1101100000111000000000000000010101000100000\n",
      "1101100000111000000000000000010101000100000\n",
      "1101111100000100000010001000010101000000000\n"
     ]
    }
   ],
   "source": [
    "!flip -q6,8 -s37,1 < kreitman_snp.txt"
   ]
  },
  {
   "cell_type": "markdown",
   "metadata": {},
   "source": [
    "Using the option '-bfilename.txt' will save the resulting dataset to filename.txt."
   ]
  }
 ],
 "metadata": {
  "kernelspec": {
   "display_name": "Python 3",
   "language": "python",
   "name": "python3"
  },
  "language_info": {
   "codemirror_mode": {
    "name": "ipython",
    "version": 3
   },
   "file_extension": ".py",
   "mimetype": "text/x-python",
   "name": "python",
   "nbconvert_exporter": "python",
   "pygments_lexer": "ipython3",
   "version": "3.9.0"
  }
 },
 "nbformat": 4,
 "nbformat_minor": 4
}
